{
  "nbformat": 4,
  "nbformat_minor": 0,
  "metadata": {
    "colab": {
      "provenance": [],
      "authorship_tag": "ABX9TyOL2FY+eEiBH+eIHPgCEa5T",
      "include_colab_link": true
    },
    "kernelspec": {
      "name": "python3",
      "display_name": "Python 3"
    },
    "language_info": {
      "name": "python"
    }
  },
  "cells": [
    {
      "cell_type": "markdown",
      "metadata": {
        "id": "view-in-github",
        "colab_type": "text"
      },
      "source": [
        "<a href=\"https://colab.research.google.com/github/feIIipe/1/blob/main/Untitled6.ipynb\" target=\"_parent\"><img src=\"https://colab.research.google.com/assets/colab-badge.svg\" alt=\"Open In Colab\"/></a>"
      ]
    },
    {
      "cell_type": "code",
      "source": [
        "def verificar_estacao_do_ano(mes):\n",
        "\n",
        "    if mes in [3, 4, 5]:\n",
        "        estacao = 'Primavera'\n",
        "    elif mes in [6, 7, 8]:\n",
        "        estacao = 'Verão'\n",
        "    elif mes in [9, 10, 11]:\n",
        "        estacao = 'Outono'\n",
        "    elif mes in [12, 1, 2]:\n",
        "        estacao = 'Inverno'\n",
        "    else:\n",
        "        estacao = 'Mês inválido. Por favor, insira um número de 1 a 12.'\n",
        "\n",
        "    return estacao\n",
        "\n",
        "try:\n",
        "    mes = int(input(\"Digite o número do mês (1 a 12): \"))\n",
        "\n",
        "    estacao = verificar_estacao_do_ano(mes)\n",
        "    print(f\"A estação do ano para o mês {mes} é: {estacao}\")\n",
        "\n",
        "except ValueError:\n",
        "    print(\"Por favor, insira um número válido.\")\n"
      ],
      "metadata": {
        "id": "-hvL_JTTsjUH"
      },
      "execution_count": null,
      "outputs": []
    }
  ]
}