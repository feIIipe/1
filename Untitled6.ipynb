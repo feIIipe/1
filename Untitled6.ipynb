{
  "nbformat": 4,
  "nbformat_minor": 0,
  "metadata": {
    "colab": {
      "provenance": [],
      "authorship_tag": "ABX9TyN3rHck9J8L4td52mZ9/F7e",
      "include_colab_link": true
    },
    "kernelspec": {
      "name": "python3",
      "display_name": "Python 3"
    },
    "language_info": {
      "name": "python"
    }
  },
  "cells": [
    {
      "cell_type": "markdown",
      "metadata": {
        "id": "view-in-github",
        "colab_type": "text"
      },
      "source": [
        "<a href=\"https://colab.research.google.com/github/feIIipe/1/blob/main/Untitled6.ipynb\" target=\"_parent\"><img src=\"https://colab.research.google.com/assets/colab-badge.svg\" alt=\"Open In Colab\"/></a>"
      ]
    },
    {
      "cell_type": "code",
      "source": [
        "from datetime import datetime\n",
        "\n",
        "def verificar_faixa_etaria(ano_nascimento):\n",
        "    ano_atual = datetime.now().year\n",
        "    idade = ano_atual - ano_nascimento\n",
        "\n",
        "    if idade <= 12:\n",
        "        faixa_etaria = 'Criança'\n",
        "    elif 13 <= idade <= 24:\n",
        "        faixa_etaria = 'Jovem'\n",
        "    elif 25 <= idade <= 64:\n",
        "        faixa_etaria = 'Adulto'\n",
        "    else:\n",
        "        faixa_etaria = 'Idoso'\n",
        "\n",
        "    return faixa_etaria\n",
        "\n",
        "ano_nascimento = int(input(\"Digite o ano de nascimento: \"))\n",
        "\n",
        "faixa_etaria = verificar_faixa_etaria(ano_nascimento)\n",
        "print(f\"A faixa etária é: {faixa_etaria}\")\n"
      ],
      "metadata": {
        "id": "sceBuumbtJIS"
      },
      "execution_count": null,
      "outputs": []
    },
    {
      "cell_type": "code",
      "source": [
        "def verificar_estacao_do_ano(mes):\n",
        "\n",
        "    if mes in [3, 4, 5]:\n",
        "        estacao = 'Primavera'\n",
        "    elif mes in [6, 7, 8]:\n",
        "        estacao = 'Verão'\n",
        "    elif mes in [9, 10, 11]:\n",
        "        estacao = 'Outono'\n",
        "    elif mes in [12, 1, 2]:\n",
        "        estacao = 'Inverno'\n",
        "    else:\n",
        "        estacao = 'Mês inválido. Por favor, insira um número de 1 a 12.'\n",
        "\n",
        "    return estacao\n",
        "\n",
        "try:\n",
        "    mes = int(input(\"Digite o número do mês (1 a 12): \"))\n",
        "\n",
        "    estacao = verificar_estacao_do_ano(mes)\n",
        "    print(f\"A estação do ano para o mês {mes} é: {estacao}\")\n",
        "\n",
        "except ValueError:\n",
        "    print(\"Por favor, insira um número válido.\")\n"
      ],
      "metadata": {
        "id": "82Tz7TIGtaUL"
      },
      "execution_count": null,
      "outputs": []
    },
    {
      "cell_type": "code",
      "source": [
        "print(\"Contador com loop for:\")\n",
        "for i in range(1, 11):\n",
        "    print(i)\n"
      ],
      "metadata": {
        "id": "TMxvcb9RtogO"
      },
      "execution_count": null,
      "outputs": []
    }
  ]
}