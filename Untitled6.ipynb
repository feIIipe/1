{
  "nbformat": 4,
  "nbformat_minor": 0,
  "metadata": {
    "colab": {
      "provenance": [],
      "authorship_tag": "ABX9TyPSV3NbkhN09Q3lUy+LKoM7",
      "include_colab_link": true
    },
    "kernelspec": {
      "name": "python3",
      "display_name": "Python 3"
    },
    "language_info": {
      "name": "python"
    }
  },
  "cells": [
    {
      "cell_type": "markdown",
      "metadata": {
        "id": "view-in-github",
        "colab_type": "text"
      },
      "source": [
        "<a href=\"https://colab.research.google.com/github/feIIipe/1/blob/main/Untitled6.ipynb\" target=\"_parent\"><img src=\"https://colab.research.google.com/assets/colab-badge.svg\" alt=\"Open In Colab\"/></a>"
      ]
    },
    {
      "cell_type": "code",
      "source": [
        "from datetime import datetime\n",
        "\n",
        "def verificar_faixa_etaria(ano_nascimento):\n",
        "    ano_atual = datetime.now().year\n",
        "    idade = ano_atual - ano_nascimento\n",
        "\n",
        "    if idade <= 12:\n",
        "        faixa_etaria = 'Criança'\n",
        "    elif 13 <= idade <= 24:\n",
        "        faixa_etaria = 'Jovem'\n",
        "    elif 25 <= idade <= 64:\n",
        "        faixa_etaria = 'Adulto'\n",
        "    else:\n",
        "        faixa_etaria = 'Idoso'\n",
        "\n",
        "    return faixa_etaria\n",
        "\n",
        "ano_nascimento = int(input(\"Digite o ano de nascimento: \"))\n",
        "\n",
        "faixa_etaria = verificar_faixa_etaria(ano_nascimento)\n",
        "print(f\"A faixa etária é: {faixa_etaria}\")\n"
      ],
      "metadata": {
        "id": "QclG4SdMsMDC"
      },
      "execution_count": null,
      "outputs": []
    }
  ]
}