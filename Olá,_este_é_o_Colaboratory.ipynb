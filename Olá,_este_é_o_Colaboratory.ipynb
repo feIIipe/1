{
  "cells": [
    {
      "cell_type": "markdown",
      "metadata": {
        "id": "view-in-github",
        "colab_type": "text"
      },
      "source": [
        "<a href=\"https://colab.research.google.com/github/feIIipe/1/blob/main/Ol%C3%A1%2C_este_%C3%A9_o_Colaboratory.ipynb\" target=\"_parent\"><img src=\"https://colab.research.google.com/assets/colab-badge.svg\" alt=\"Open In Colab\"/></a>"
      ]
    },
    {
      "cell_type": "code",
      "execution_count": null,
      "metadata": {
        "id": "zwFnJsE6vjf8"
      },
      "outputs": [],
      "source": []
    },
    {
      "source": [
        "import datetime\n",
        "\n",
        "def calcular_idade(ano_nascimento):\n",
        "    ano_atual = datetime.date.today().year\n",
        "    idade = ano_atual - ano_nascimento\n",
        "    return idade\n",
        "\n",
        "def main():\n",
        "    print(\"Para prosseguir devemos verificar sua idade.\")\n",
        "    while True:\n",
        "       try:\n",
        "           ano_nascimento = int(input(\"digite o ano de seu nascimento (AAAA): \"))\n",
        "\n",
        "           idade = calcular_idade(ano_nascimento)\n",
        "\n",
        "           if idade >=18:\n",
        "              print(f\"voce tem {idade} anos. pode prosseguir.\")\n",
        "              break\n",
        "\n",
        "           else:\n",
        "              print(f\"Desculpe, voce tem apenas {idade} anos e nao pode prosseguir.\")\n",
        "              return\n",
        "\n",
        "       except ValueError:\n",
        "           print(\"Entrada inválida. Por favor, digite um ano válido (AAAA).\")\n",
        "\n",
        "    nome = input(\"Digite seu nome: \")\n",
        "    escolaridade = input(\"Digite sua escolaridade (Ensino Médio Completo ou Ensino Superior Completo): \").strip().lower()\n",
        "\n",
        "    if escolaridade == \"ensino médio completo\":\n",
        "       print(f\"olá, {nome} aqui estão algumas opções para voce:\")\n",
        "       print(\"- Engenharia civil\")\n",
        "       print(\"- Administração de empresas\")\n",
        "       print(\"- Ciências da computação\")\n",
        "    elif escolaridade == \"ensino superior completo\":\n",
        "      print(f\"olá, {nome} aqui estão algumas opções de pós-graduação para voce:\")\n",
        "      print(\"- Gestão empresarial\")\n",
        "      print(\"- mestrado em ciencia de dados\")\n",
        "      print(\"- especialização em direito tributário\")\n",
        "\n",
        "\n",
        "if __name__ == \"__main__\":\n",
        "   main()"
      ],
      "cell_type": "code",
      "metadata": {
        "id": "RCWtPkovhz1k"
      },
      "execution_count": null,
      "outputs": []
    },
    {
      "cell_type": "code",
      "source": [
        "import math\n",
        "\n",
        "#area quadrado\n",
        "def calcular_area_quadrado (lado):\n",
        "    area = lado * lado\n",
        "    return area\n",
        "\n",
        "#area círculo\n",
        "def calcular_area_círculo(raio):\n",
        "    area = math.pi * raio ** 2\n",
        "    return area\n",
        "\n",
        "#area triangulo\n",
        "def calcular_area_triangulo(base, altura):\n",
        "    area = (base * altura) / 2\n",
        "    return area\n",
        "\n",
        "lado_quadrado = 3\n",
        "base_triangulo = 4\n",
        "altura_triangulo = 3\n",
        "raio_círculo = 2\n",
        "\n",
        "area_quadrado = calcular_area_quadrado(lado_quadrado)\n",
        "area_triangulo = calcular_area_triangulo(base_triangulo, altura_triangulo)\n",
        "area_círculo = calcular_area_círculo(raio_círculo)\n",
        "\n",
        "print(f\"Área do quadrado com lado {lado_quadrado}: {area_quadrado}\")\n",
        "print(f\"Área do triangulo com base {base_triangulo} e altura {altura_triangulo}: {area_triangulo}\")\n",
        "print(f\"Área do círculo com raio {raio_círculo}: {area_círculo}\")\n"
      ],
      "metadata": {
        "id": "trnXLDghDny5"
      },
      "execution_count": null,
      "outputs": []
    }
  ],
  "metadata": {
    "colab": {
      "name": "Olá, este é o Colaboratory",
      "provenance": [],
      "include_colab_link": true
    },
    "kernelspec": {
      "display_name": "Python 3",
      "name": "python3"
    }
  },
  "nbformat": 4,
  "nbformat_minor": 0
}